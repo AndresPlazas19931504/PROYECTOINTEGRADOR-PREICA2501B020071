{
  "nbformat": 4,
  "nbformat_minor": 0,
  "metadata": {
    "colab": {
      "provenance": [],
      "authorship_tag": "ABX9TyPJiGoEEebK1/VjtVoETyy9",
      "include_colab_link": true
    },
    "kernelspec": {
      "name": "python3",
      "display_name": "Python 3"
    },
    "language_info": {
      "name": "python"
    }
  },
  "cells": [
    {
      "cell_type": "markdown",
      "metadata": {
        "id": "view-in-github",
        "colab_type": "text"
      },
      "source": [
        "<a href=\"https://colab.research.google.com/github/AndresPlazas19931504/PROYECTOINTEGRADOR-PREICA2501B020071/blob/main/S25_Evidencia_de_Aprendizaje_1.ipynb\" target=\"_parent\"><img src=\"https://colab.research.google.com/assets/colab-badge.svg\" alt=\"Open In Colab\"/></a>"
      ]
    },
    {
      "cell_type": "code",
      "execution_count": null,
      "metadata": {
        "colab": {
          "base_uri": "https://localhost:8080/"
        },
        "id": "gAqCe_cVTJjW",
        "outputId": "a5dc0222-c4ba-4b0e-ce37-a1b239d68e70"
      },
      "outputs": [
        {
          "output_type": "stream",
          "name": "stderr",
          "text": [
            "<ipython-input-1-b979563c9fc9>:9: DeprecationWarning: load_dataset is deprecated and will be removed in a future version.\n",
            "  df = kagglehub.load_dataset(\n"
          ]
        },
        {
          "output_type": "stream",
          "name": "stdout",
          "text": [
            "Downloading from https://www.kaggle.com/api/v1/datasets/download/mkechinov/ecommerce-behavior-data-from-multi-category-store?dataset_version_number=8&file_name=2019-Oct.csv...\n"
          ]
        },
        {
          "output_type": "stream",
          "name": "stderr",
          "text": [
            "100%|██████████| 1.61G/1.61G [00:18<00:00, 95.6MB/s]"
          ]
        },
        {
          "output_type": "stream",
          "name": "stdout",
          "text": [
            "Extracting zip of 2019-Oct.csv...\n"
          ]
        },
        {
          "output_type": "stream",
          "name": "stderr",
          "text": [
            "\n"
          ]
        }
      ],
      "source": [
        "import pandas as pd\n",
        "import kagglehub\n",
        "from kagglehub import KaggleDatasetAdapter\n",
        "from IPython.display import display\n",
        "import io\n",
        "\n",
        "file_path = \"2019-Oct.csv\"\n",
        "\n",
        "df = kagglehub.load_dataset(\n",
        "  KaggleDatasetAdapter.PANDAS,\n",
        "  \"mkechinov/ecommerce-behavior-data-from-multi-category-store\",\n",
        "  file_path,\n",
        ")"
      ]
    },
    {
      "cell_type": "code",
      "source": [
        "display(df.head())"
      ],
      "metadata": {
        "id": "1rvP2NOrXYXn"
      },
      "execution_count": null,
      "outputs": []
    },
    {
      "cell_type": "code",
      "source": [
        "df.info()"
      ],
      "metadata": {
        "id": "_Fp3_31eXdqd"
      },
      "execution_count": null,
      "outputs": []
    },
    {
      "cell_type": "code",
      "source": [
        "df.describe()"
      ],
      "metadata": {
        "id": "m6nU1hToXtm1"
      },
      "execution_count": null,
      "outputs": []
    },
    {
      "cell_type": "code",
      "source": [
        "df['event_time'].unique()\n",
        "df['event_time'].value_counts()"
      ],
      "metadata": {
        "id": "Xa-hOZ0TX1mq"
      },
      "execution_count": null,
      "outputs": []
    },
    {
      "cell_type": "code",
      "source": [
        "df['event_type'].unique()\n",
        "df['event_type'].value_counts()"
      ],
      "metadata": {
        "id": "jKOhs6VXZOGW"
      },
      "execution_count": null,
      "outputs": []
    },
    {
      "cell_type": "code",
      "source": [
        "df['product_id'].unique()\n",
        "df['product_id'].value_counts()"
      ],
      "metadata": {
        "id": "FGqf0AtnZw4B"
      },
      "execution_count": null,
      "outputs": []
    },
    {
      "cell_type": "code",
      "source": [
        "df['category_id'].unique()\n",
        "df['category_id'].value_counts()"
      ],
      "metadata": {
        "id": "SBKNpQlqZy9l"
      },
      "execution_count": null,
      "outputs": []
    },
    {
      "cell_type": "code",
      "source": [
        "df['category_code'].unique()\n",
        "df['category_code'].value_counts()"
      ],
      "metadata": {
        "id": "ET9axLPjZ0vY"
      },
      "execution_count": null,
      "outputs": []
    },
    {
      "cell_type": "code",
      "source": [
        "df['brand'].unique()\n",
        "df['brand'].value_counts()"
      ],
      "metadata": {
        "id": "eS_KfkODZ2lF"
      },
      "execution_count": null,
      "outputs": []
    },
    {
      "cell_type": "code",
      "source": [
        "df['price'].unique()\n",
        "df['price'].value_counts()"
      ],
      "metadata": {
        "id": "Jb2siDM3Z4rH"
      },
      "execution_count": null,
      "outputs": []
    },
    {
      "cell_type": "code",
      "source": [
        "df['user_id'].unique()\n",
        "df['user_id'].value_counts()"
      ],
      "metadata": {
        "id": "4_2TJ7VjZ_l4"
      },
      "execution_count": null,
      "outputs": []
    },
    {
      "cell_type": "code",
      "source": [
        "df['user_session'].unique()\n",
        "df['user_session'].value_counts()"
      ],
      "metadata": {
        "id": "sXeoDeYoaBkY"
      },
      "execution_count": null,
      "outputs": []
    },
    {
      "cell_type": "code",
      "source": [
        "!pip install kagglehub[pandas-datasets]\n",
        "!pip install --upgrade ydata-profiling\n",
        "!pip install --no-cache-dir ydata-profiling\n",
        "\n",
        "\n",
        "import kagglehub\n",
        "from kagglehub import KaggleDatasetAdapter\n",
        "import pandas as pd\n",
        "import ydata_profiling as pp\n",
        "from ydata_profiling import ProfileReport\n",
        "\n",
        "file_path = \"2019-Oct.csv\"\n",
        "df = kagglehub.load_dataset(\n",
        "  KaggleDatasetAdapter.PANDAS,\n",
        "  \"mkechinov/ecommerce-behavior-data-from-multi-category-store\",\n",
        "  file_path,\n",
        ")\n",
        "\n",
        "df_muestra = df.sample(frac=0.125)\n",
        "\n",
        "reporte = ProfileReport(df_muestra, minimal=False)\n",
        "reporte.to_file(output_file='reporte.html')"
      ],
      "metadata": {
        "id": "qF-fJJsi0eMM"
      },
      "execution_count": null,
      "outputs": []
    }
  ]
}